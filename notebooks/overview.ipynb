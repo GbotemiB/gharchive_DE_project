{
 "cells": [
  {
   "cell_type": "code",
   "execution_count": 2,
   "id": "8b8cb5e8",
   "metadata": {},
   "outputs": [],
   "source": [
    "import pandas as pd\n",
    "import matplotlib.pyplot as plt\n",
    "import seaborn as sns"
   ]
  },
  {
   "cell_type": "code",
   "execution_count": 4,
   "id": "437bff54",
   "metadata": {},
   "outputs": [
    {
     "name": "stdout",
     "output_type": "stream",
     "text": [
      "--2023-03-03 10:18:53--  https://data.gharchive.org/2023-03-02-23.json.gz\n",
      "Resolving data.gharchive.org (data.gharchive.org)... 104.21.46.175, 172.67.168.206, 2606:4700:3035::ac43:a8ce, ...\n",
      "Connecting to data.gharchive.org (data.gharchive.org)|104.21.46.175|:443... connected.\n",
      "HTTP request sent, awaiting response... 200 OK\n",
      "Length: 90013440 (86M) [application/gzip]\n",
      "Saving to: ‘2023-03-02-23.json.gz’\n",
      "\n",
      "2023-03-02-23.json. 100%[===================>]  85.84M   168MB/s    in 0.5s    \n",
      "\n",
      "2023-03-03 10:18:54 (168 MB/s) - ‘2023-03-02-23.json.gz’ saved [90013440/90013440]\n",
      "\n"
     ]
    }
   ],
   "source": [
    "!wget 'https://data.gharchive.org/2023-03-02-23.json.gz'"
   ]
  },
  {
   "cell_type": "code",
   "execution_count": 5,
   "id": "24997d36",
   "metadata": {},
   "outputs": [],
   "source": [
    "data = pd.read_json('2023-03-02-23.json.gz', lines=True)"
   ]
  },
  {
   "cell_type": "code",
   "execution_count": 6,
   "id": "444aaf82",
   "metadata": {},
   "outputs": [
    {
     "data": {
      "text/html": [
       "<div>\n",
       "<style scoped>\n",
       "    .dataframe tbody tr th:only-of-type {\n",
       "        vertical-align: middle;\n",
       "    }\n",
       "\n",
       "    .dataframe tbody tr th {\n",
       "        vertical-align: top;\n",
       "    }\n",
       "\n",
       "    .dataframe thead th {\n",
       "        text-align: right;\n",
       "    }\n",
       "</style>\n",
       "<table border=\"1\" class=\"dataframe\">\n",
       "  <thead>\n",
       "    <tr style=\"text-align: right;\">\n",
       "      <th></th>\n",
       "      <th>id</th>\n",
       "      <th>type</th>\n",
       "      <th>actor</th>\n",
       "      <th>repo</th>\n",
       "      <th>payload</th>\n",
       "      <th>public</th>\n",
       "      <th>created_at</th>\n",
       "      <th>org</th>\n",
       "    </tr>\n",
       "  </thead>\n",
       "  <tbody>\n",
       "    <tr>\n",
       "      <th>0</th>\n",
       "      <td>27457678816</td>\n",
       "      <td>DeleteEvent</td>\n",
       "      <td>{'id': 49699333, 'login': 'dependabot[bot]', '...</td>\n",
       "      <td>{'id': 207923678, 'name': 'hzeller/sv-tests', ...</td>\n",
       "      <td>{'ref': 'dependabot/submodules/third_party/tes...</td>\n",
       "      <td>True</td>\n",
       "      <td>2023-03-02 23:00:00+00:00</td>\n",
       "      <td>NaN</td>\n",
       "    </tr>\n",
       "    <tr>\n",
       "      <th>1</th>\n",
       "      <td>27457678819</td>\n",
       "      <td>PushEvent</td>\n",
       "      <td>{'id': 72001564, 'login': 'JohnOgbonna', 'disp...</td>\n",
       "      <td>{'id': 608373140, 'name': 'JohnOgbonna/random_...</td>\n",
       "      <td>{'repository_id': 608373140, 'push_id': 128080...</td>\n",
       "      <td>True</td>\n",
       "      <td>2023-03-02 23:00:00+00:00</td>\n",
       "      <td>NaN</td>\n",
       "    </tr>\n",
       "    <tr>\n",
       "      <th>2</th>\n",
       "      <td>27457678828</td>\n",
       "      <td>CreateEvent</td>\n",
       "      <td>{'id': 29139614, 'login': 'renovate[bot]', 'di...</td>\n",
       "      <td>{'id': 56574883, 'name': 'Cantara/ConfigServic...</td>\n",
       "      <td>{'ref': 'renovate/aws-java-sdk-monorepo', 'ref...</td>\n",
       "      <td>True</td>\n",
       "      <td>2023-03-02 23:00:00+00:00</td>\n",
       "      <td>{'id': 1122494, 'login': 'Cantara', 'gravatar_...</td>\n",
       "    </tr>\n",
       "    <tr>\n",
       "      <th>3</th>\n",
       "      <td>27457678833</td>\n",
       "      <td>PushEvent</td>\n",
       "      <td>{'id': 39669357, 'login': 'Mixerou', 'display_...</td>\n",
       "      <td>{'id': 598041211, 'name': 'Mixerou/garthen', '...</td>\n",
       "      <td>{'repository_id': 598041211, 'push_id': 128080...</td>\n",
       "      <td>True</td>\n",
       "      <td>2023-03-02 23:00:00+00:00</td>\n",
       "      <td>NaN</td>\n",
       "    </tr>\n",
       "    <tr>\n",
       "      <th>4</th>\n",
       "      <td>27457678837</td>\n",
       "      <td>PushEvent</td>\n",
       "      <td>{'id': 22825192, 'login': 'nboaldin', 'display...</td>\n",
       "      <td>{'id': 504195955, 'name': 'nboaldin/dotfiles',...</td>\n",
       "      <td>{'repository_id': 504195955, 'push_id': 128080...</td>\n",
       "      <td>True</td>\n",
       "      <td>2023-03-02 23:00:00+00:00</td>\n",
       "      <td>NaN</td>\n",
       "    </tr>\n",
       "  </tbody>\n",
       "</table>\n",
       "</div>"
      ],
      "text/plain": [
       "            id         type  \\\n",
       "0  27457678816  DeleteEvent   \n",
       "1  27457678819    PushEvent   \n",
       "2  27457678828  CreateEvent   \n",
       "3  27457678833    PushEvent   \n",
       "4  27457678837    PushEvent   \n",
       "\n",
       "                                               actor  \\\n",
       "0  {'id': 49699333, 'login': 'dependabot[bot]', '...   \n",
       "1  {'id': 72001564, 'login': 'JohnOgbonna', 'disp...   \n",
       "2  {'id': 29139614, 'login': 'renovate[bot]', 'di...   \n",
       "3  {'id': 39669357, 'login': 'Mixerou', 'display_...   \n",
       "4  {'id': 22825192, 'login': 'nboaldin', 'display...   \n",
       "\n",
       "                                                repo  \\\n",
       "0  {'id': 207923678, 'name': 'hzeller/sv-tests', ...   \n",
       "1  {'id': 608373140, 'name': 'JohnOgbonna/random_...   \n",
       "2  {'id': 56574883, 'name': 'Cantara/ConfigServic...   \n",
       "3  {'id': 598041211, 'name': 'Mixerou/garthen', '...   \n",
       "4  {'id': 504195955, 'name': 'nboaldin/dotfiles',...   \n",
       "\n",
       "                                             payload  public  \\\n",
       "0  {'ref': 'dependabot/submodules/third_party/tes...    True   \n",
       "1  {'repository_id': 608373140, 'push_id': 128080...    True   \n",
       "2  {'ref': 'renovate/aws-java-sdk-monorepo', 'ref...    True   \n",
       "3  {'repository_id': 598041211, 'push_id': 128080...    True   \n",
       "4  {'repository_id': 504195955, 'push_id': 128080...    True   \n",
       "\n",
       "                 created_at                                                org  \n",
       "0 2023-03-02 23:00:00+00:00                                                NaN  \n",
       "1 2023-03-02 23:00:00+00:00                                                NaN  \n",
       "2 2023-03-02 23:00:00+00:00  {'id': 1122494, 'login': 'Cantara', 'gravatar_...  \n",
       "3 2023-03-02 23:00:00+00:00                                                NaN  \n",
       "4 2023-03-02 23:00:00+00:00                                                NaN  "
      ]
     },
     "execution_count": 6,
     "metadata": {},
     "output_type": "execute_result"
    }
   ],
   "source": [
    "data.head()"
   ]
  },
  {
   "cell_type": "code",
   "execution_count": 7,
   "id": "a61e4824",
   "metadata": {},
   "outputs": [
    {
     "data": {
      "text/plain": [
       "(147237, 8)"
      ]
     },
     "execution_count": 7,
     "metadata": {},
     "output_type": "execute_result"
    }
   ],
   "source": [
    "data.shape"
   ]
  },
  {
   "cell_type": "code",
   "execution_count": 8,
   "id": "82fe617e",
   "metadata": {},
   "outputs": [
    {
     "data": {
      "text/plain": [
       "PushEvent                        74733\n",
       "CreateEvent                      22854\n",
       "PullRequestEvent                 15898\n",
       "WatchEvent                        7590\n",
       "IssueCommentEvent                 7518\n",
       "DeleteEvent                       5058\n",
       "PullRequestReviewEvent            3788\n",
       "IssuesEvent                       2462\n",
       "PullRequestReviewCommentEvent     2375\n",
       "ForkEvent                         1975\n",
       "CommitCommentEvent                1241\n",
       "ReleaseEvent                       541\n",
       "MemberEvent                        525\n",
       "PublicEvent                        457\n",
       "GollumEvent                        222\n",
       "Name: type, dtype: int64"
      ]
     },
     "execution_count": 8,
     "metadata": {},
     "output_type": "execute_result"
    }
   ],
   "source": [
    "data.type.value_counts()"
   ]
  },
  {
   "cell_type": "code",
   "execution_count": 9,
   "id": "ae3213d2",
   "metadata": {},
   "outputs": [
    {
     "data": {
      "text/plain": [
       "id             0.000000\n",
       "type           0.000000\n",
       "actor          0.000000\n",
       "repo           0.000000\n",
       "payload        0.000000\n",
       "public         0.000000\n",
       "created_at     0.000000\n",
       "org           71.592059\n",
       "dtype: float64"
      ]
     },
     "execution_count": 9,
     "metadata": {},
     "output_type": "execute_result"
    }
   ],
   "source": [
    "data.isna().sum() / len(data) * 100"
   ]
  },
  {
   "cell_type": "code",
   "execution_count": 10,
   "id": "f4f12be0",
   "metadata": {},
   "outputs": [
    {
     "data": {
      "text/plain": [
       "Index(['id', 'type', 'actor', 'repo', 'payload', 'public', 'created_at',\n",
       "       'org'],\n",
       "      dtype='object')"
      ]
     },
     "execution_count": 10,
     "metadata": {},
     "output_type": "execute_result"
    }
   ],
   "source": [
    "data.columns"
   ]
  },
  {
   "cell_type": "markdown",
   "id": "6e5b51f8",
   "metadata": {},
   "source": [
    "## Data loading"
   ]
  },
  {
   "cell_type": "code",
   "execution_count": 38,
   "id": "57d6f3c3",
   "metadata": {},
   "outputs": [
    {
     "data": {
      "text/html": [
       "<div>\n",
       "<style scoped>\n",
       "    .dataframe tbody tr th:only-of-type {\n",
       "        vertical-align: middle;\n",
       "    }\n",
       "\n",
       "    .dataframe tbody tr th {\n",
       "        vertical-align: top;\n",
       "    }\n",
       "\n",
       "    .dataframe thead th {\n",
       "        text-align: right;\n",
       "    }\n",
       "</style>\n",
       "<table border=\"1\" class=\"dataframe\">\n",
       "  <thead>\n",
       "    <tr style=\"text-align: right;\">\n",
       "      <th></th>\n",
       "      <th>id</th>\n",
       "      <th>type</th>\n",
       "      <th>actor</th>\n",
       "      <th>repo</th>\n",
       "      <th>payload</th>\n",
       "      <th>public</th>\n",
       "      <th>created_at</th>\n",
       "      <th>org</th>\n",
       "    </tr>\n",
       "  </thead>\n",
       "  <tbody>\n",
       "    <tr>\n",
       "      <th>0</th>\n",
       "      <td>2489651045</td>\n",
       "      <td>CreateEvent</td>\n",
       "      <td>{'id': 665991, 'login': 'petroav', 'gravatar_i...</td>\n",
       "      <td>{'id': 28688495, 'name': 'petroav/6.828', 'url...</td>\n",
       "      <td>{'ref': 'master', 'ref_type': 'branch', 'maste...</td>\n",
       "      <td>True</td>\n",
       "      <td>2015-01-01 15:00:00+00:00</td>\n",
       "      <td>NaN</td>\n",
       "    </tr>\n",
       "    <tr>\n",
       "      <th>1</th>\n",
       "      <td>2489651051</td>\n",
       "      <td>PushEvent</td>\n",
       "      <td>{'id': 3854017, 'login': 'rspt', 'gravatar_id'...</td>\n",
       "      <td>{'id': 28671719, 'name': 'rspt/rspt-theme', 'u...</td>\n",
       "      <td>{'push_id': 536863970, 'size': 1, 'distinct_si...</td>\n",
       "      <td>True</td>\n",
       "      <td>2015-01-01 15:00:01+00:00</td>\n",
       "      <td>NaN</td>\n",
       "    </tr>\n",
       "    <tr>\n",
       "      <th>2</th>\n",
       "      <td>2489651053</td>\n",
       "      <td>PushEvent</td>\n",
       "      <td>{'id': 6339799, 'login': 'izuzero', 'gravatar_...</td>\n",
       "      <td>{'id': 28270952, 'name': 'izuzero/xe-module-aj...</td>\n",
       "      <td>{'push_id': 536863972, 'size': 1, 'distinct_si...</td>\n",
       "      <td>True</td>\n",
       "      <td>2015-01-01 15:00:01+00:00</td>\n",
       "      <td>NaN</td>\n",
       "    </tr>\n",
       "    <tr>\n",
       "      <th>3</th>\n",
       "      <td>2489651057</td>\n",
       "      <td>WatchEvent</td>\n",
       "      <td>{'id': 6894991, 'login': 'SametSisartenep', 'g...</td>\n",
       "      <td>{'id': 2871998, 'name': 'visionmedia/debug', '...</td>\n",
       "      <td>{'action': 'started'}</td>\n",
       "      <td>True</td>\n",
       "      <td>2015-01-01 15:00:03+00:00</td>\n",
       "      <td>{'id': 9285252, 'login': 'visionmedia', 'grava...</td>\n",
       "    </tr>\n",
       "    <tr>\n",
       "      <th>4</th>\n",
       "      <td>2489651062</td>\n",
       "      <td>PushEvent</td>\n",
       "      <td>{'id': 485033, 'login': 'winterbe', 'gravatar_...</td>\n",
       "      <td>{'id': 28593843, 'name': 'winterbe/streamjs', ...</td>\n",
       "      <td>{'push_id': 536863975, 'size': 1, 'distinct_si...</td>\n",
       "      <td>True</td>\n",
       "      <td>2015-01-01 15:00:03+00:00</td>\n",
       "      <td>NaN</td>\n",
       "    </tr>\n",
       "  </tbody>\n",
       "</table>\n",
       "</div>"
      ],
      "text/plain": [
       "           id         type                                              actor  \\\n",
       "0  2489651045  CreateEvent  {'id': 665991, 'login': 'petroav', 'gravatar_i...   \n",
       "1  2489651051    PushEvent  {'id': 3854017, 'login': 'rspt', 'gravatar_id'...   \n",
       "2  2489651053    PushEvent  {'id': 6339799, 'login': 'izuzero', 'gravatar_...   \n",
       "3  2489651057   WatchEvent  {'id': 6894991, 'login': 'SametSisartenep', 'g...   \n",
       "4  2489651062    PushEvent  {'id': 485033, 'login': 'winterbe', 'gravatar_...   \n",
       "\n",
       "                                                repo  \\\n",
       "0  {'id': 28688495, 'name': 'petroav/6.828', 'url...   \n",
       "1  {'id': 28671719, 'name': 'rspt/rspt-theme', 'u...   \n",
       "2  {'id': 28270952, 'name': 'izuzero/xe-module-aj...   \n",
       "3  {'id': 2871998, 'name': 'visionmedia/debug', '...   \n",
       "4  {'id': 28593843, 'name': 'winterbe/streamjs', ...   \n",
       "\n",
       "                                             payload  public  \\\n",
       "0  {'ref': 'master', 'ref_type': 'branch', 'maste...    True   \n",
       "1  {'push_id': 536863970, 'size': 1, 'distinct_si...    True   \n",
       "2  {'push_id': 536863972, 'size': 1, 'distinct_si...    True   \n",
       "3                              {'action': 'started'}    True   \n",
       "4  {'push_id': 536863975, 'size': 1, 'distinct_si...    True   \n",
       "\n",
       "                 created_at                                                org  \n",
       "0 2015-01-01 15:00:00+00:00                                                NaN  \n",
       "1 2015-01-01 15:00:01+00:00                                                NaN  \n",
       "2 2015-01-01 15:00:01+00:00                                                NaN  \n",
       "3 2015-01-01 15:00:03+00:00  {'id': 9285252, 'login': 'visionmedia', 'grava...  \n",
       "4 2015-01-01 15:00:03+00:00                                                NaN  "
      ]
     },
     "execution_count": 38,
     "metadata": {},
     "output_type": "execute_result"
    }
   ],
   "source": [
    "data.head()"
   ]
  },
  {
   "cell_type": "code",
   "execution_count": 39,
   "id": "1e7f308d",
   "metadata": {},
   "outputs": [
    {
     "name": "stdout",
     "output_type": "stream",
     "text": [
      "<class 'pandas.core.frame.DataFrame'>\n",
      "RangeIndex: 11351 entries, 0 to 11350\n",
      "Data columns (total 8 columns):\n",
      " #   Column      Non-Null Count  Dtype              \n",
      "---  ------      --------------  -----              \n",
      " 0   id          11351 non-null  int64              \n",
      " 1   type        11351 non-null  object             \n",
      " 2   actor       11351 non-null  object             \n",
      " 3   repo        11351 non-null  object             \n",
      " 4   payload     11351 non-null  object             \n",
      " 5   public      11351 non-null  bool               \n",
      " 6   created_at  11351 non-null  datetime64[ns, UTC]\n",
      " 7   org         3245 non-null   object             \n",
      "dtypes: bool(1), datetime64[ns, UTC](1), int64(1), object(5)\n",
      "memory usage: 632.0+ KB\n"
     ]
    }
   ],
   "source": [
    "data.info()"
   ]
  },
  {
   "cell_type": "code",
   "execution_count": 76,
   "id": "53ab0787",
   "metadata": {},
   "outputs": [
    {
     "data": {
      "text/plain": [
       "id                                                   2489651045\n",
       "type                                                CreateEvent\n",
       "actor         {'id': 665991, 'login': 'petroav', 'gravatar_i...\n",
       "repo          {'id': 28688495, 'name': 'petroav/6.828', 'url...\n",
       "payload       {'ref': 'master', 'ref_type': 'branch', 'maste...\n",
       "public                                                     True\n",
       "created_at                            2015-01-01 15:00:00+00:00\n",
       "org                                                         NaN\n",
       "Name: 0, dtype: object"
      ]
     },
     "execution_count": 76,
     "metadata": {},
     "output_type": "execute_result"
    }
   ],
   "source": [
    "data.iloc[0]"
   ]
  },
  {
   "cell_type": "code",
   "execution_count": 83,
   "id": "aeced0a9",
   "metadata": {},
   "outputs": [
    {
     "data": {
      "text/plain": [
       "{'id': 665991,\n",
       " 'login': 'petroav',\n",
       " 'gravatar_id': '',\n",
       " 'url': 'https://api.github.com/users/petroav',\n",
       " 'avatar_url': 'https://avatars.githubusercontent.com/u/665991?'}"
      ]
     },
     "execution_count": 83,
     "metadata": {},
     "output_type": "execute_result"
    }
   ],
   "source": [
    "data['actor'].iloc[0]"
   ]
  },
  {
   "cell_type": "code",
   "execution_count": 64,
   "id": "dfb785f2",
   "metadata": {},
   "outputs": [
    {
     "data": {
      "text/plain": [
       "'petroav'"
      ]
     },
     "execution_count": 64,
     "metadata": {},
     "output_type": "execute_result"
    }
   ],
   "source": [
    "data['actor'][0].get('login')"
   ]
  },
  {
   "cell_type": "code",
   "execution_count": 67,
   "id": "23200a87",
   "metadata": {},
   "outputs": [
    {
     "data": {
      "text/plain": [
       "2489651045"
      ]
     },
     "execution_count": 67,
     "metadata": {},
     "output_type": "execute_result"
    }
   ],
   "source": [
    "data['id'].iloc[0]"
   ]
  },
  {
   "cell_type": "code",
   "execution_count": 65,
   "id": "91aab692",
   "metadata": {
    "scrolled": true
   },
   "outputs": [
    {
     "data": {
      "text/plain": [
       "{'id': 28688495,\n",
       " 'name': 'petroav/6.828',\n",
       " 'url': 'https://api.github.com/repos/petroav/6.828'}"
      ]
     },
     "execution_count": 65,
     "metadata": {},
     "output_type": "execute_result"
    }
   ],
   "source": [
    "data['repo'].iloc[0]"
   ]
  },
  {
   "cell_type": "code",
   "execution_count": 146,
   "id": "6a1fbadb",
   "metadata": {},
   "outputs": [
    {
     "data": {
      "text/plain": [
       "{'id': 5543656,\n",
       " 'name': 'meltingice/psd.js',\n",
       " 'url': 'https://api.github.com/repos/meltingice/psd.js'}"
      ]
     },
     "execution_count": 146,
     "metadata": {},
     "output_type": "execute_result"
    }
   ],
   "source": [
    "data['repo'].iloc[234]"
   ]
  },
  {
   "cell_type": "code",
   "execution_count": 85,
   "id": "89978114",
   "metadata": {},
   "outputs": [
    {
     "data": {
      "text/plain": [
       "{'ref': 'master',\n",
       " 'ref_type': 'branch',\n",
       " 'master_branch': 'master',\n",
       " 'description': \"Solution to homework and assignments from MIT's 6.828 (Operating Systems Engineering). Done in my spare time.\",\n",
       " 'pusher_type': 'user'}"
      ]
     },
     "execution_count": 85,
     "metadata": {},
     "output_type": "execute_result"
    }
   ],
   "source": [
    "data['payload'].iloc[0]"
   ]
  },
  {
   "cell_type": "code",
   "execution_count": 77,
   "id": "efcaee8b",
   "metadata": {},
   "outputs": [
    {
     "data": {
      "text/plain": [
       "{'push_id': 536863970,\n",
       " 'size': 1,\n",
       " 'distinct_size': 1,\n",
       " 'ref': 'refs/heads/master',\n",
       " 'head': '6b089eb4a43f728f0a594388092f480f2ecacfcd',\n",
       " 'before': '437c03652caa0bc4a7554b18d5c0a394c2f3d326',\n",
       " 'commits': [{'sha': '6b089eb4a43f728f0a594388092f480f2ecacfcd',\n",
       "   'author': {'email': '5c682c2d1ec4073e277f9ba9f4bdf07e5794dabe@rspt.ch',\n",
       "    'name': 'rspt'},\n",
       "   'message': 'Fix main header height on mobile',\n",
       "   'distinct': True,\n",
       "   'url': 'https://api.github.com/repos/rspt/rspt-theme/commits/6b089eb4a43f728f0a594388092f480f2ecacfcd'}]}"
      ]
     },
     "execution_count": 77,
     "metadata": {},
     "output_type": "execute_result"
    }
   ],
   "source": [
    "data['payload'].iloc[1]"
   ]
  },
  {
   "cell_type": "code",
   "execution_count": 81,
   "id": "b1b6cebb",
   "metadata": {},
   "outputs": [
    {
     "data": {
      "text/plain": [
       "{'ref': 'master',\n",
       " 'ref_type': 'branch',\n",
       " 'master_branch': 'master',\n",
       " 'description': \"Solution to homework and assignments from MIT's 6.828 (Operating Systems Engineering). Done in my spare time.\",\n",
       " 'pusher_type': 'user'}"
      ]
     },
     "execution_count": 81,
     "metadata": {},
     "output_type": "execute_result"
    }
   ],
   "source": [
    "data['payload'].iloc[0]"
   ]
  },
  {
   "cell_type": "code",
   "execution_count": 104,
   "id": "c7ff886d",
   "metadata": {},
   "outputs": [
    {
     "data": {
      "text/plain": [
       "Timestamp('2015-01-01 15:00:00+0000', tz='UTC')"
      ]
     },
     "execution_count": 104,
     "metadata": {},
     "output_type": "execute_result"
    }
   ],
   "source": [
    "x = data['created_at'].iloc[0]\n",
    "x"
   ]
  },
  {
   "cell_type": "code",
   "execution_count": 110,
   "id": "b5ce1262",
   "metadata": {},
   "outputs": [
    {
     "data": {
      "text/plain": [
       "'Thursday'"
      ]
     },
     "execution_count": 110,
     "metadata": {},
     "output_type": "execute_result"
    }
   ],
   "source": [
    "x.day_name()"
   ]
  },
  {
   "cell_type": "code",
   "execution_count": 115,
   "id": "e1765358",
   "metadata": {},
   "outputs": [
    {
     "data": {
      "text/plain": [
       "1"
      ]
     },
     "execution_count": 115,
     "metadata": {},
     "output_type": "execute_result"
    }
   ],
   "source": [
    "x.week"
   ]
  },
  {
   "cell_type": "code",
   "execution_count": 141,
   "id": "dd63ad98",
   "metadata": {},
   "outputs": [
    {
     "name": "stdout",
     "output_type": "stream",
     "text": [
      "--2023-03-02 15:24:34--  https://data.gharchive.org/2017-01-01-1.json.gz\n",
      "Resolving data.gharchive.org (data.gharchive.org)... 188.114.96.5, 188.114.97.5, 2a06:98c1:3120::5, ...\n",
      "Connecting to data.gharchive.org (data.gharchive.org)|188.114.96.5|:443... connected.\n",
      "HTTP request sent, awaiting response... 200 OK\n",
      "Length: 4336012 (4.1M) [application/gzip]\n",
      "Saving to: ‘2017-01-01-1.json.gz’\n",
      "\n",
      "2017-01-01-1.json.g 100%[===================>]   4.13M   283KB/s    in 23s     \n",
      "\n",
      "2023-03-02 15:25:04 (184 KB/s) - ‘2017-01-01-1.json.gz’ saved [4336012/4336012]\n",
      "\n"
     ]
    }
   ],
   "source": [
    "!wget 'https://data.gharchive.org/2017-01-01-1.json.gz'"
   ]
  },
  {
   "cell_type": "code",
   "execution_count": 142,
   "id": "c7bceb90",
   "metadata": {},
   "outputs": [],
   "source": [
    "link1 = '2015-01-01-1.json.gz'\n",
    "link2 = '2015-01-01-15.json.gz'\n",
    "link3 = '2015-01-01-23.json.gz'\n",
    "link4 = '2017-01-01-1.json.gz'\n",
    "link5 = '2017-01-01-2.json.gz'"
   ]
  },
  {
   "cell_type": "code",
   "execution_count": 143,
   "id": "744b1a9f",
   "metadata": {},
   "outputs": [],
   "source": [
    "l1 = pd.read_json(link1, lines=True)\n",
    "l2 = pd.read_json(link2, lines=True)\n",
    "l3 = pd.read_json(link3, lines=True)\n",
    "l4 = pd.read_json(link4, lines=True)\n",
    "l5 = pd.read_json(link5, lines=True)"
   ]
  },
  {
   "cell_type": "code",
   "execution_count": 126,
   "id": "b8e77349",
   "metadata": {},
   "outputs": [
    {
     "data": {
      "text/plain": [
       "((7427, 8), (11351, 8), (11601, 8))"
      ]
     },
     "execution_count": 126,
     "metadata": {},
     "output_type": "execute_result"
    }
   ],
   "source": [
    "l1.shape, l2.shape, l3.shape"
   ]
  },
  {
   "cell_type": "code",
   "execution_count": 134,
   "id": "2afa17ab",
   "metadata": {},
   "outputs": [
    {
     "data": {
      "text/html": [
       "<div>\n",
       "<style scoped>\n",
       "    .dataframe tbody tr th:only-of-type {\n",
       "        vertical-align: middle;\n",
       "    }\n",
       "\n",
       "    .dataframe tbody tr th {\n",
       "        vertical-align: top;\n",
       "    }\n",
       "\n",
       "    .dataframe thead th {\n",
       "        text-align: right;\n",
       "    }\n",
       "</style>\n",
       "<table border=\"1\" class=\"dataframe\">\n",
       "  <thead>\n",
       "    <tr style=\"text-align: right;\">\n",
       "      <th></th>\n",
       "      <th>id</th>\n",
       "      <th>type</th>\n",
       "      <th>actor</th>\n",
       "      <th>repo</th>\n",
       "      <th>payload</th>\n",
       "      <th>public</th>\n",
       "      <th>created_at</th>\n",
       "      <th>org</th>\n",
       "    </tr>\n",
       "  </thead>\n",
       "  <tbody>\n",
       "    <tr>\n",
       "      <th>7426</th>\n",
       "      <td>2489418153</td>\n",
       "      <td>PushEvent</td>\n",
       "      <td>{'id': 3433835, 'login': 'n-rodriguez', 'grava...</td>\n",
       "      <td>{'id': 28482774, 'name': 'n-rodriguez/shiny-hi...</td>\n",
       "      <td>{'push_id': 536761430, 'size': 1, 'distinct_si...</td>\n",
       "      <td>True</td>\n",
       "      <td>2015-01-01 01:59:59+00:00</td>\n",
       "      <td>NaN</td>\n",
       "    </tr>\n",
       "  </tbody>\n",
       "</table>\n",
       "</div>"
      ],
      "text/plain": [
       "              id       type  \\\n",
       "7426  2489418153  PushEvent   \n",
       "\n",
       "                                                  actor  \\\n",
       "7426  {'id': 3433835, 'login': 'n-rodriguez', 'grava...   \n",
       "\n",
       "                                                   repo  \\\n",
       "7426  {'id': 28482774, 'name': 'n-rodriguez/shiny-hi...   \n",
       "\n",
       "                                                payload  public  \\\n",
       "7426  {'push_id': 536761430, 'size': 1, 'distinct_si...    True   \n",
       "\n",
       "                    created_at  org  \n",
       "7426 2015-01-01 01:59:59+00:00  NaN  "
      ]
     },
     "execution_count": 134,
     "metadata": {},
     "output_type": "execute_result"
    }
   ],
   "source": [
    "l1[l1['id'] == 2489418153]"
   ]
  },
  {
   "cell_type": "code",
   "execution_count": 135,
   "id": "7fa54a6b",
   "metadata": {},
   "outputs": [
    {
     "data": {
      "text/html": [
       "<div>\n",
       "<style scoped>\n",
       "    .dataframe tbody tr th:only-of-type {\n",
       "        vertical-align: middle;\n",
       "    }\n",
       "\n",
       "    .dataframe tbody tr th {\n",
       "        vertical-align: top;\n",
       "    }\n",
       "\n",
       "    .dataframe thead th {\n",
       "        text-align: right;\n",
       "    }\n",
       "</style>\n",
       "<table border=\"1\" class=\"dataframe\">\n",
       "  <thead>\n",
       "    <tr style=\"text-align: right;\">\n",
       "      <th></th>\n",
       "      <th>id</th>\n",
       "      <th>type</th>\n",
       "      <th>actor</th>\n",
       "      <th>repo</th>\n",
       "      <th>payload</th>\n",
       "      <th>public</th>\n",
       "      <th>created_at</th>\n",
       "      <th>org</th>\n",
       "    </tr>\n",
       "  </thead>\n",
       "  <tbody>\n",
       "  </tbody>\n",
       "</table>\n",
       "</div>"
      ],
      "text/plain": [
       "Empty DataFrame\n",
       "Columns: [id, type, actor, repo, payload, public, created_at, org]\n",
       "Index: []"
      ]
     },
     "execution_count": 135,
     "metadata": {},
     "output_type": "execute_result"
    }
   ],
   "source": [
    "l2[l2['id'] == 2489418153]"
   ]
  },
  {
   "cell_type": "code",
   "execution_count": 136,
   "id": "79c0afca",
   "metadata": {},
   "outputs": [
    {
     "data": {
      "text/html": [
       "<div>\n",
       "<style scoped>\n",
       "    .dataframe tbody tr th:only-of-type {\n",
       "        vertical-align: middle;\n",
       "    }\n",
       "\n",
       "    .dataframe tbody tr th {\n",
       "        vertical-align: top;\n",
       "    }\n",
       "\n",
       "    .dataframe thead th {\n",
       "        text-align: right;\n",
       "    }\n",
       "</style>\n",
       "<table border=\"1\" class=\"dataframe\">\n",
       "  <thead>\n",
       "    <tr style=\"text-align: right;\">\n",
       "      <th></th>\n",
       "      <th>id</th>\n",
       "      <th>type</th>\n",
       "      <th>actor</th>\n",
       "      <th>repo</th>\n",
       "      <th>payload</th>\n",
       "      <th>public</th>\n",
       "      <th>created_at</th>\n",
       "      <th>org</th>\n",
       "    </tr>\n",
       "  </thead>\n",
       "  <tbody>\n",
       "  </tbody>\n",
       "</table>\n",
       "</div>"
      ],
      "text/plain": [
       "Empty DataFrame\n",
       "Columns: [id, type, actor, repo, payload, public, created_at, org]\n",
       "Index: []"
      ]
     },
     "execution_count": 136,
     "metadata": {},
     "output_type": "execute_result"
    }
   ],
   "source": [
    "l3[l3['id'] == 2489418153]"
   ]
  },
  {
   "cell_type": "code",
   "execution_count": 144,
   "id": "27a2407a",
   "metadata": {},
   "outputs": [
    {
     "data": {
      "text/html": [
       "<div>\n",
       "<style scoped>\n",
       "    .dataframe tbody tr th:only-of-type {\n",
       "        vertical-align: middle;\n",
       "    }\n",
       "\n",
       "    .dataframe tbody tr th {\n",
       "        vertical-align: top;\n",
       "    }\n",
       "\n",
       "    .dataframe thead th {\n",
       "        text-align: right;\n",
       "    }\n",
       "</style>\n",
       "<table border=\"1\" class=\"dataframe\">\n",
       "  <thead>\n",
       "    <tr style=\"text-align: right;\">\n",
       "      <th></th>\n",
       "      <th>id</th>\n",
       "      <th>type</th>\n",
       "      <th>actor</th>\n",
       "      <th>repo</th>\n",
       "      <th>payload</th>\n",
       "      <th>public</th>\n",
       "      <th>created_at</th>\n",
       "      <th>org</th>\n",
       "    </tr>\n",
       "  </thead>\n",
       "  <tbody>\n",
       "    <tr>\n",
       "      <th>14640</th>\n",
       "      <td>5088737150</td>\n",
       "      <td>PullRequestEvent</td>\n",
       "      <td>{'id': 13558917, 'login': 'brminnick', 'displa...</td>\n",
       "      <td>{'id': 56399949, 'name': 'brminnick/FaceOff', ...</td>\n",
       "      <td>{'action': 'opened', 'number': 45, 'pull_reque...</td>\n",
       "      <td>True</td>\n",
       "      <td>2017-01-01 01:59:59+00:00</td>\n",
       "      <td>NaN</td>\n",
       "    </tr>\n",
       "    <tr>\n",
       "      <th>14641</th>\n",
       "      <td>5088737154</td>\n",
       "      <td>PushEvent</td>\n",
       "      <td>{'id': 189133, 'login': 'csmith', 'display_log...</td>\n",
       "      <td>{'id': 487850, 'name': 'csmith/DMDirc-Plugins'...</td>\n",
       "      <td>{'push_id': 1479412242, 'size': 4, 'distinct_s...</td>\n",
       "      <td>True</td>\n",
       "      <td>2017-01-01 01:59:59+00:00</td>\n",
       "      <td>NaN</td>\n",
       "    </tr>\n",
       "    <tr>\n",
       "      <th>14642</th>\n",
       "      <td>5088737155</td>\n",
       "      <td>WatchEvent</td>\n",
       "      <td>{'id': 2010838, 'login': 'ShadowCreator', 'dis...</td>\n",
       "      <td>{'id': 70542756, 'name': 'ku-nlp/jumanpp', 'ur...</td>\n",
       "      <td>{'action': 'started'}</td>\n",
       "      <td>True</td>\n",
       "      <td>2017-01-01 01:59:59+00:00</td>\n",
       "      <td>{'id': 15993796, 'login': 'ku-nlp', 'gravatar_...</td>\n",
       "    </tr>\n",
       "    <tr>\n",
       "      <th>14643</th>\n",
       "      <td>5088737158</td>\n",
       "      <td>PushEvent</td>\n",
       "      <td>{'id': 8088864, 'login': 'biluo62', 'display_l...</td>\n",
       "      <td>{'id': 73917324, 'name': 'biluo62/MissWechat',...</td>\n",
       "      <td>{'push_id': 1479412243, 'size': 3, 'distinct_s...</td>\n",
       "      <td>True</td>\n",
       "      <td>2017-01-01 01:59:59+00:00</td>\n",
       "      <td>NaN</td>\n",
       "    </tr>\n",
       "    <tr>\n",
       "      <th>14644</th>\n",
       "      <td>5088737161</td>\n",
       "      <td>PushEvent</td>\n",
       "      <td>{'id': 18384087, 'login': 'qmzx', 'display_log...</td>\n",
       "      <td>{'id': 77761618, 'name': 'qmzx/StarLord', 'url...</td>\n",
       "      <td>{'push_id': 1479412246, 'size': 1, 'distinct_s...</td>\n",
       "      <td>True</td>\n",
       "      <td>2017-01-01 01:59:59+00:00</td>\n",
       "      <td>NaN</td>\n",
       "    </tr>\n",
       "  </tbody>\n",
       "</table>\n",
       "</div>"
      ],
      "text/plain": [
       "               id              type  \\\n",
       "14640  5088737150  PullRequestEvent   \n",
       "14641  5088737154         PushEvent   \n",
       "14642  5088737155        WatchEvent   \n",
       "14643  5088737158         PushEvent   \n",
       "14644  5088737161         PushEvent   \n",
       "\n",
       "                                                   actor  \\\n",
       "14640  {'id': 13558917, 'login': 'brminnick', 'displa...   \n",
       "14641  {'id': 189133, 'login': 'csmith', 'display_log...   \n",
       "14642  {'id': 2010838, 'login': 'ShadowCreator', 'dis...   \n",
       "14643  {'id': 8088864, 'login': 'biluo62', 'display_l...   \n",
       "14644  {'id': 18384087, 'login': 'qmzx', 'display_log...   \n",
       "\n",
       "                                                    repo  \\\n",
       "14640  {'id': 56399949, 'name': 'brminnick/FaceOff', ...   \n",
       "14641  {'id': 487850, 'name': 'csmith/DMDirc-Plugins'...   \n",
       "14642  {'id': 70542756, 'name': 'ku-nlp/jumanpp', 'ur...   \n",
       "14643  {'id': 73917324, 'name': 'biluo62/MissWechat',...   \n",
       "14644  {'id': 77761618, 'name': 'qmzx/StarLord', 'url...   \n",
       "\n",
       "                                                 payload  public  \\\n",
       "14640  {'action': 'opened', 'number': 45, 'pull_reque...    True   \n",
       "14641  {'push_id': 1479412242, 'size': 4, 'distinct_s...    True   \n",
       "14642                              {'action': 'started'}    True   \n",
       "14643  {'push_id': 1479412243, 'size': 3, 'distinct_s...    True   \n",
       "14644  {'push_id': 1479412246, 'size': 1, 'distinct_s...    True   \n",
       "\n",
       "                     created_at  \\\n",
       "14640 2017-01-01 01:59:59+00:00   \n",
       "14641 2017-01-01 01:59:59+00:00   \n",
       "14642 2017-01-01 01:59:59+00:00   \n",
       "14643 2017-01-01 01:59:59+00:00   \n",
       "14644 2017-01-01 01:59:59+00:00   \n",
       "\n",
       "                                                     org  \n",
       "14640                                                NaN  \n",
       "14641                                                NaN  \n",
       "14642  {'id': 15993796, 'login': 'ku-nlp', 'gravatar_...  \n",
       "14643                                                NaN  \n",
       "14644                                                NaN  "
      ]
     },
     "execution_count": 144,
     "metadata": {},
     "output_type": "execute_result"
    }
   ],
   "source": [
    "l4.tail()"
   ]
  },
  {
   "cell_type": "code",
   "execution_count": 145,
   "id": "8cb2892d",
   "metadata": {},
   "outputs": [
    {
     "data": {
      "text/html": [
       "<div>\n",
       "<style scoped>\n",
       "    .dataframe tbody tr th:only-of-type {\n",
       "        vertical-align: middle;\n",
       "    }\n",
       "\n",
       "    .dataframe tbody tr th {\n",
       "        vertical-align: top;\n",
       "    }\n",
       "\n",
       "    .dataframe thead th {\n",
       "        text-align: right;\n",
       "    }\n",
       "</style>\n",
       "<table border=\"1\" class=\"dataframe\">\n",
       "  <thead>\n",
       "    <tr style=\"text-align: right;\">\n",
       "      <th></th>\n",
       "      <th>id</th>\n",
       "      <th>type</th>\n",
       "      <th>actor</th>\n",
       "      <th>repo</th>\n",
       "      <th>payload</th>\n",
       "      <th>public</th>\n",
       "      <th>created_at</th>\n",
       "      <th>org</th>\n",
       "    </tr>\n",
       "  </thead>\n",
       "  <tbody>\n",
       "    <tr>\n",
       "      <th>0</th>\n",
       "      <td>5088737163</td>\n",
       "      <td>PushEvent</td>\n",
       "      <td>{'id': 57483, 'login': 'tmtmtmtm', 'display_lo...</td>\n",
       "      <td>{'id': 37072724, 'name': 'everypolitician-scra...</td>\n",
       "      <td>{'push_id': 1479412247, 'size': 1, 'distinct_s...</td>\n",
       "      <td>True</td>\n",
       "      <td>2017-01-01 02:00:00+00:00</td>\n",
       "      <td>{'id': 18443033, 'login': 'everypolitician-scr...</td>\n",
       "    </tr>\n",
       "    <tr>\n",
       "      <th>1</th>\n",
       "      <td>5088737164</td>\n",
       "      <td>PushEvent</td>\n",
       "      <td>{'id': 3793547, 'login': 'misoton665', 'displa...</td>\n",
       "      <td>{'id': 77635186, 'name': 'ibuki-web/ibuki-web'...</td>\n",
       "      <td>{'push_id': 1479412248, 'size': 1, 'distinct_s...</td>\n",
       "      <td>True</td>\n",
       "      <td>2017-01-01 02:00:00+00:00</td>\n",
       "      <td>{'id': 24665647, 'login': 'ibuki-web', 'gravat...</td>\n",
       "    </tr>\n",
       "    <tr>\n",
       "      <th>2</th>\n",
       "      <td>5088737165</td>\n",
       "      <td>WatchEvent</td>\n",
       "      <td>{'id': 783338, 'login': 'jmingov', 'display_lo...</td>\n",
       "      <td>{'id': 37659549, 'name': 'paralax/awesome-hone...</td>\n",
       "      <td>{'action': 'started'}</td>\n",
       "      <td>True</td>\n",
       "      <td>2017-01-01 02:00:00+00:00</td>\n",
       "      <td>NaN</td>\n",
       "    </tr>\n",
       "    <tr>\n",
       "      <th>3</th>\n",
       "      <td>5088737168</td>\n",
       "      <td>PushEvent</td>\n",
       "      <td>{'id': 18339146, 'login': 'jimmyjam1', 'displa...</td>\n",
       "      <td>{'id': 77761614, 'name': 'jimmyjam1/Daredevil'...</td>\n",
       "      <td>{'push_id': 1479412249, 'size': 1, 'distinct_s...</td>\n",
       "      <td>True</td>\n",
       "      <td>2017-01-01 02:00:00+00:00</td>\n",
       "      <td>NaN</td>\n",
       "    </tr>\n",
       "    <tr>\n",
       "      <th>4</th>\n",
       "      <td>5088737183</td>\n",
       "      <td>PullRequestEvent</td>\n",
       "      <td>{'id': 16338288, 'login': 'maxnz', 'display_lo...</td>\n",
       "      <td>{'id': 77759299, 'name': 'maxnz/wiki', 'url': ...</td>\n",
       "      <td>{'action': 'opened', 'number': 6, 'pull_reques...</td>\n",
       "      <td>True</td>\n",
       "      <td>2017-01-01 02:00:02+00:00</td>\n",
       "      <td>NaN</td>\n",
       "    </tr>\n",
       "  </tbody>\n",
       "</table>\n",
       "</div>"
      ],
      "text/plain": [
       "           id              type  \\\n",
       "0  5088737163         PushEvent   \n",
       "1  5088737164         PushEvent   \n",
       "2  5088737165        WatchEvent   \n",
       "3  5088737168         PushEvent   \n",
       "4  5088737183  PullRequestEvent   \n",
       "\n",
       "                                               actor  \\\n",
       "0  {'id': 57483, 'login': 'tmtmtmtm', 'display_lo...   \n",
       "1  {'id': 3793547, 'login': 'misoton665', 'displa...   \n",
       "2  {'id': 783338, 'login': 'jmingov', 'display_lo...   \n",
       "3  {'id': 18339146, 'login': 'jimmyjam1', 'displa...   \n",
       "4  {'id': 16338288, 'login': 'maxnz', 'display_lo...   \n",
       "\n",
       "                                                repo  \\\n",
       "0  {'id': 37072724, 'name': 'everypolitician-scra...   \n",
       "1  {'id': 77635186, 'name': 'ibuki-web/ibuki-web'...   \n",
       "2  {'id': 37659549, 'name': 'paralax/awesome-hone...   \n",
       "3  {'id': 77761614, 'name': 'jimmyjam1/Daredevil'...   \n",
       "4  {'id': 77759299, 'name': 'maxnz/wiki', 'url': ...   \n",
       "\n",
       "                                             payload  public  \\\n",
       "0  {'push_id': 1479412247, 'size': 1, 'distinct_s...    True   \n",
       "1  {'push_id': 1479412248, 'size': 1, 'distinct_s...    True   \n",
       "2                              {'action': 'started'}    True   \n",
       "3  {'push_id': 1479412249, 'size': 1, 'distinct_s...    True   \n",
       "4  {'action': 'opened', 'number': 6, 'pull_reques...    True   \n",
       "\n",
       "                 created_at                                                org  \n",
       "0 2017-01-01 02:00:00+00:00  {'id': 18443033, 'login': 'everypolitician-scr...  \n",
       "1 2017-01-01 02:00:00+00:00  {'id': 24665647, 'login': 'ibuki-web', 'gravat...  \n",
       "2 2017-01-01 02:00:00+00:00                                                NaN  \n",
       "3 2017-01-01 02:00:00+00:00                                                NaN  \n",
       "4 2017-01-01 02:00:02+00:00                                                NaN  "
      ]
     },
     "execution_count": 145,
     "metadata": {},
     "output_type": "execute_result"
    }
   ],
   "source": [
    "l5.head()"
   ]
  },
  {
   "cell_type": "code",
   "execution_count": 139,
   "id": "f5ae6772",
   "metadata": {},
   "outputs": [
    {
     "data": {
      "text/html": [
       "<div>\n",
       "<style scoped>\n",
       "    .dataframe tbody tr th:only-of-type {\n",
       "        vertical-align: middle;\n",
       "    }\n",
       "\n",
       "    .dataframe tbody tr th {\n",
       "        vertical-align: top;\n",
       "    }\n",
       "\n",
       "    .dataframe thead th {\n",
       "        text-align: right;\n",
       "    }\n",
       "</style>\n",
       "<table border=\"1\" class=\"dataframe\">\n",
       "  <thead>\n",
       "    <tr style=\"text-align: right;\">\n",
       "      <th></th>\n",
       "      <th>id</th>\n",
       "      <th>type</th>\n",
       "      <th>actor</th>\n",
       "      <th>repo</th>\n",
       "      <th>payload</th>\n",
       "      <th>public</th>\n",
       "      <th>created_at</th>\n",
       "      <th>org</th>\n",
       "    </tr>\n",
       "  </thead>\n",
       "  <tbody>\n",
       "    <tr>\n",
       "      <th>0</th>\n",
       "      <td>2489651045</td>\n",
       "      <td>CreateEvent</td>\n",
       "      <td>{'id': 665991, 'login': 'petroav', 'gravatar_i...</td>\n",
       "      <td>{'id': 28688495, 'name': 'petroav/6.828', 'url...</td>\n",
       "      <td>{'ref': 'master', 'ref_type': 'branch', 'maste...</td>\n",
       "      <td>True</td>\n",
       "      <td>2015-01-01 15:00:00+00:00</td>\n",
       "      <td>NaN</td>\n",
       "    </tr>\n",
       "    <tr>\n",
       "      <th>1</th>\n",
       "      <td>2489651051</td>\n",
       "      <td>PushEvent</td>\n",
       "      <td>{'id': 3854017, 'login': 'rspt', 'gravatar_id'...</td>\n",
       "      <td>{'id': 28671719, 'name': 'rspt/rspt-theme', 'u...</td>\n",
       "      <td>{'push_id': 536863970, 'size': 1, 'distinct_si...</td>\n",
       "      <td>True</td>\n",
       "      <td>2015-01-01 15:00:01+00:00</td>\n",
       "      <td>NaN</td>\n",
       "    </tr>\n",
       "    <tr>\n",
       "      <th>2</th>\n",
       "      <td>2489651053</td>\n",
       "      <td>PushEvent</td>\n",
       "      <td>{'id': 6339799, 'login': 'izuzero', 'gravatar_...</td>\n",
       "      <td>{'id': 28270952, 'name': 'izuzero/xe-module-aj...</td>\n",
       "      <td>{'push_id': 536863972, 'size': 1, 'distinct_si...</td>\n",
       "      <td>True</td>\n",
       "      <td>2015-01-01 15:00:01+00:00</td>\n",
       "      <td>NaN</td>\n",
       "    </tr>\n",
       "    <tr>\n",
       "      <th>3</th>\n",
       "      <td>2489651057</td>\n",
       "      <td>WatchEvent</td>\n",
       "      <td>{'id': 6894991, 'login': 'SametSisartenep', 'g...</td>\n",
       "      <td>{'id': 2871998, 'name': 'visionmedia/debug', '...</td>\n",
       "      <td>{'action': 'started'}</td>\n",
       "      <td>True</td>\n",
       "      <td>2015-01-01 15:00:03+00:00</td>\n",
       "      <td>{'id': 9285252, 'login': 'visionmedia', 'grava...</td>\n",
       "    </tr>\n",
       "    <tr>\n",
       "      <th>4</th>\n",
       "      <td>2489651062</td>\n",
       "      <td>PushEvent</td>\n",
       "      <td>{'id': 485033, 'login': 'winterbe', 'gravatar_...</td>\n",
       "      <td>{'id': 28593843, 'name': 'winterbe/streamjs', ...</td>\n",
       "      <td>{'push_id': 536863975, 'size': 1, 'distinct_si...</td>\n",
       "      <td>True</td>\n",
       "      <td>2015-01-01 15:00:03+00:00</td>\n",
       "      <td>NaN</td>\n",
       "    </tr>\n",
       "  </tbody>\n",
       "</table>\n",
       "</div>"
      ],
      "text/plain": [
       "           id         type                                              actor  \\\n",
       "0  2489651045  CreateEvent  {'id': 665991, 'login': 'petroav', 'gravatar_i...   \n",
       "1  2489651051    PushEvent  {'id': 3854017, 'login': 'rspt', 'gravatar_id'...   \n",
       "2  2489651053    PushEvent  {'id': 6339799, 'login': 'izuzero', 'gravatar_...   \n",
       "3  2489651057   WatchEvent  {'id': 6894991, 'login': 'SametSisartenep', 'g...   \n",
       "4  2489651062    PushEvent  {'id': 485033, 'login': 'winterbe', 'gravatar_...   \n",
       "\n",
       "                                                repo  \\\n",
       "0  {'id': 28688495, 'name': 'petroav/6.828', 'url...   \n",
       "1  {'id': 28671719, 'name': 'rspt/rspt-theme', 'u...   \n",
       "2  {'id': 28270952, 'name': 'izuzero/xe-module-aj...   \n",
       "3  {'id': 2871998, 'name': 'visionmedia/debug', '...   \n",
       "4  {'id': 28593843, 'name': 'winterbe/streamjs', ...   \n",
       "\n",
       "                                             payload  public  \\\n",
       "0  {'ref': 'master', 'ref_type': 'branch', 'maste...    True   \n",
       "1  {'push_id': 536863970, 'size': 1, 'distinct_si...    True   \n",
       "2  {'push_id': 536863972, 'size': 1, 'distinct_si...    True   \n",
       "3                              {'action': 'started'}    True   \n",
       "4  {'push_id': 536863975, 'size': 1, 'distinct_si...    True   \n",
       "\n",
       "                 created_at                                                org  \n",
       "0 2015-01-01 15:00:00+00:00                                                NaN  \n",
       "1 2015-01-01 15:00:01+00:00                                                NaN  \n",
       "2 2015-01-01 15:00:01+00:00                                                NaN  \n",
       "3 2015-01-01 15:00:03+00:00  {'id': 9285252, 'login': 'visionmedia', 'grava...  \n",
       "4 2015-01-01 15:00:03+00:00                                                NaN  "
      ]
     },
     "execution_count": 139,
     "metadata": {},
     "output_type": "execute_result"
    }
   ],
   "source": [
    "l2.head()"
   ]
  },
  {
   "cell_type": "code",
   "execution_count": 140,
   "id": "972e3cc0",
   "metadata": {},
   "outputs": [
    {
     "data": {
      "text/plain": [
       "-232892"
      ]
     },
     "execution_count": 140,
     "metadata": {},
     "output_type": "execute_result"
    }
   ],
   "source": [
    "2489418153 - 2489651045"
   ]
  },
  {
   "cell_type": "code",
   "execution_count": null,
   "id": "ae9654a7",
   "metadata": {},
   "outputs": [],
   "source": []
  }
 ],
 "metadata": {
  "kernelspec": {
   "display_name": "Python 3 (ipykernel)",
   "language": "python",
   "name": "python3"
  },
  "language_info": {
   "codemirror_mode": {
    "name": "ipython",
    "version": 3
   },
   "file_extension": ".py",
   "mimetype": "text/x-python",
   "name": "python",
   "nbconvert_exporter": "python",
   "pygments_lexer": "ipython3",
   "version": "3.8.10"
  }
 },
 "nbformat": 4,
 "nbformat_minor": 5
}
